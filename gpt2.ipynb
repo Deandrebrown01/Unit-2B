{
 "cells": [
  {
   "cell_type": "code",
   "execution_count": 4,
   "metadata": {},
   "outputs": [],
   "source": [
    "import gpt_2_simple as gpt2"
   ]
  },
  {
   "cell_type": "code",
   "execution_count": 4,
   "metadata": {},
   "outputs": [
    {
     "name": "stderr",
     "output_type": "stream",
     "text": [
      "Fetching checkpoint: 1.05Mit [00:00, 1.84Git/s]                                                     \n",
      "Fetching encoder.json: 1.05Mit [00:04, 216kit/s]                                                    \n",
      "Fetching hparams.json: 1.05Mit [00:00, 5.25Git/s]                                                   \n",
      "Fetching model.ckpt.data-00000-of-00001: 498Mit [15:03, 551kit/s]                                   \n",
      "Fetching model.ckpt.index: 1.05Mit [00:00, 3.73Git/s]                                               \n",
      "Fetching model.ckpt.meta: 1.05Mit [00:00, 2.41Mit/s]                                                \n",
      "Fetching vocab.bpe: 1.05Mit [00:00, 3.81Mit/s]                                                      \n"
     ]
    }
   ],
   "source": [
    "#gpt2.download_gpt2(model_name ='124M')"
   ]
  },
  {
   "cell_type": "code",
   "execution_count": 5,
   "metadata": {},
   "outputs": [],
   "source": [
    "session = gpt2.start_tf_sess()\n"
   ]
  },
  {
   "cell_type": "code",
   "execution_count": 6,
   "metadata": {},
   "outputs": [
    {
     "name": "stderr",
     "output_type": "stream",
     "text": [
      "2023-12-14 10:03:56.628219: I tensorflow/compiler/mlir/mlir_graph_optimization_pass.cc:388] MLIR V1 optimization pass is not enabled\n"
     ]
    },
    {
     "name": "stdout",
     "output_type": "stream",
     "text": [
      "Loading checkpoint checkpoint/run1/model-5\n",
      "INFO:tensorflow:Restoring parameters from checkpoint/run1/model-5\n",
      "Loading dataset...\n"
     ]
    },
    {
     "name": "stderr",
     "output_type": "stream",
     "text": [
      "100%|██████████| 1/1 [00:00<00:00,  1.40it/s]\n"
     ]
    },
    {
     "name": "stdout",
     "output_type": "stream",
     "text": [
      "dataset has 338024 tokens\n",
      "Training...\n",
      "[6 | 18.00] loss=3.55 avg=3.55\n",
      "[7 | 37.25] loss=3.61 avg=3.58\n",
      "[8 | 55.44] loss=3.68 avg=3.61\n",
      "[9 | 74.16] loss=3.59 avg=3.61\n",
      "[10 | 91.60] loss=3.46 avg=3.58\n",
      "Saving checkpoint/run1/model-10\n"
     ]
    }
   ],
   "source": [
    "gpt2.finetune(session,\"shakespare.txt\", model_name=\"124M\", steps=5)"
   ]
  },
  {
   "cell_type": "code",
   "execution_count": 7,
   "metadata": {},
   "outputs": [
    {
     "name": "stdout",
     "output_type": "stream",
     "text": [
      "De'Amdre: I like clothes, fits be fitting\n",
      "In my shoes.\n",
      "\n",
      "Barry: We are here to ask you to choose a suit\n",
      "And three suit.\n",
      "\n",
      "Dale: But I am not a good doctor,\n",
      "Which is bad on my part.\n",
      "\n",
      "Barry: And to-morrow I'll make a mark\n",
      "And see what I can do.\n",
      "\n",
      "Dale: I am sorry. I'll make a mark.\n",
      "\n",
      "Barry: I have made a mark.\n",
      "\n",
      "Dale: I do.\n",
      "\n",
      "Barry: I will do it.\n",
      "\n",
      "Dale: A mark that is chosen,\n",
      "That will be mine.\n",
      "\n",
      "Barry: I will make a mark.\n",
      "\n",
      "Dale: I go.\n",
      "\n",
      "Barry: I will.\n",
      "\n",
      "Dale: I will.\n",
      "\n",
      "Barry: I will, sir.\n",
      "\n",
      "Dale: I will, sir.\n",
      "\n",
      "Barry: I will.\n",
      "\n",
      "Dale: So, I will make you a mark.\n",
      "\n",
      "Barry: I will make you a mark; let me know.\n",
      "\n",
      "Dale: So, I will make you a mark.\n",
      "\n",
      "Barry: I will make you a mark.\n",
      "\n",
      "Dale: I will make you a mark.\n",
      "\n",
      "Barry: And this marks would be ready to be made.\n",
      "\n",
      "Dale: I will make you a mark.\n",
      "\n",
      "Barry: I will make you a mark.\n",
      "\n",
      "Dale: I will make you a mark.\n",
      "\n",
      "Barry: I will make you a mark.\n",
      "\n",
      "Dale: I will make you a mark.\n",
      "\n",
      "Barry: I will make you a mark.\n",
      "\n",
      "Dale: I will make you a mark.\n",
      "\n",
      "Barry: I will make you a mark.\n",
      "\n",
      "Dale: I will make you a mark.\n",
      "\n",
      "Barry: I will make you a mark.\n",
      "\n",
      "Dale: I will make you a mark.\n",
      "\n",
      "Barry: I will make you a mark.\n",
      "\n",
      "Dale: I will make you a mark.\n",
      "\n",
      "Barry: I will make you a mark.\n",
      "\n",
      "Dale: I will make you a mark.\n",
      "\n",
      "Barry: I will make you a mark.\n",
      "\n",
      "Dale: I will make you a mark.\n",
      "\n",
      "Barry: I will make you a mark.\n",
      "\n",
      "Dale: I will make you a mark.\n",
      "\n",
      "Barry: I will make you a mark.\n",
      "\n",
      "Dale: I will make you a mark.\n",
      "\n",
      "Barry: I will make you a mark.\n",
      "\n",
      "Dale: I will make you a mark.\n",
      "\n",
      "Barry: I will make you a mark.\n",
      "\n",
      "Dale: I will make you a mark.\n",
      "\n",
      "Barry: I will make you a mark.\n",
      "\n",
      "Dale: I will make you a mark.\n",
      "\n",
      "Barry: I will make you a mark.\n",
      "\n",
      "Dale: I will make you a mark.\n",
      "\n",
      "Barry: I will make you a mark.\n",
      "\n",
      "Dale: I will make you a mark.\n",
      "\n",
      "Barry: I will make you a mark.\n",
      "\n",
      "Dale: I will make you a mark.\n",
      "\n",
      "Barry: I will make you a mark.\n",
      "\n",
      "Dale: I will make you a mark.\n",
      "\n",
      "Barry: I will make you a mark.\n",
      "\n",
      "Dale: I will make you a mark.\n",
      "\n",
      "Barry: I will make you a mark.\n",
      "\n",
      "Dale: I will make you a mark.\n",
      "\n",
      "Barry: I will make you a mark.\n",
      "\n",
      "Dale: I will make you a mark.\n",
      "\n",
      "Barry: I will make you a mark.\n",
      "\n",
      "Dale: I will make you a mark.\n",
      "\n",
      "Barry: I will make you a mark.\n",
      "\n",
      "Dale: I will make you a mark.\n",
      "\n",
      "Barry: I will make you a mark.\n",
      "\n",
      "Dale: I will make you a mark.\n",
      "\n",
      "Barry: I will make you a mark.\n",
      "\n",
      "Dale: I will make you a mark.\n",
      "\n",
      "Barry: I will make you a mark.\n",
      "\n",
      "Dale: I will make you a mark.\n",
      "\n",
      "Barry: I will make you a mark.\n",
      "\n",
      "Dale: I will make you a mark.\n",
      "\n",
      "Barry: I will make you a mark.\n",
      "\n",
      "Dale: I will make you a mark.\n",
      "\n",
      "Barry: I will make you a mark.\n",
      "\n",
      "Dale: I will make you a mark.\n",
      "\n",
      "Barry: I will make you a mark.\n",
      "\n",
      "Dale: I will make you a mark.\n",
      "\n",
      "Barry: I will make you a mark.\n",
      "\n",
      "Dale: I will make you a mark.\n",
      "\n",
      "B\n"
     ]
    }
   ],
   "source": [
    "gpt2.generate(session,prefix=\"De'Amdre: I like clothes, fits be fitting\")"
   ]
  }
 ],
 "metadata": {
  "kernelspec": {
   "display_name": "Python 3",
   "language": "python",
   "name": "python3"
  },
  "language_info": {
   "codemirror_mode": {
    "name": "ipython",
    "version": 3
   },
   "file_extension": ".py",
   "mimetype": "text/x-python",
   "name": "python",
   "nbconvert_exporter": "python",
   "pygments_lexer": "ipython3",
   "version": "3.10.8"
  },
  "orig_nbformat": 4,
  "vscode": {
   "interpreter": {
    "hash": "b0fa6594d8f4cbf19f97940f81e996739fb7646882a419484c72d19e05852a7e"
   }
  }
 },
 "nbformat": 4,
 "nbformat_minor": 2
}
